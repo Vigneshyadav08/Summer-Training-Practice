{
 "cells": [
  {
   "cell_type": "markdown",
   "id": "e9b4b560-52f7-411a-943c-1c82e4dd83ee",
   "metadata": {},
   "source": [
    "PYTHON MINI PROJECT\n",
    "---------------------------\n"
   ]
  },
  {
   "cell_type": "code",
   "execution_count": 10,
   "id": "73538d33-8eb4-497a-87d0-a4003469d2c5",
   "metadata": {},
   "outputs": [
    {
     "name": "stdin",
     "output_type": "stream",
     "text": [
      "Enter the upper bound for the number to guess (integer):  8\n",
      "Guess the number between 1 and 8:  4\n"
     ]
    },
    {
     "name": "stdout",
     "output_type": "stream",
     "text": [
      "Congrats!!! You got it. The number was 4.\n",
      "You took 1 attempts to guess the number.\n"
     ]
    }
   ],
   "source": [
    "import random\n",
    "\n",
    "def guess_number(upper_bound):\n",
    "    secret_number = random.randint(1, upper_bound)\n",
    "    attempts = 0\n",
    "    \n",
    "    while True:\n",
    "        try:\n",
    "            user_guess = int(input(f\"Guess the number between 1 and {upper_bound}: \"))\n",
    "            attempts += 1\n",
    "            \n",
    "            if user_guess == secret_number:\n",
    "                print(f\"Congrats!!! You got it. The number was {secret_number}.\")\n",
    "                print(f\"You took {attempts} attempts to guess the number.\")\n",
    "                break\n",
    "            elif user_guess < secret_number:\n",
    "                print(\"Incorrect guess. The number is higher.\")\n",
    "            else:\n",
    "                print(\"Incorrect guess. The number is lower.\")\n",
    "        \n",
    "        except ValueError:\n",
    "            print(\"Invalid input! Please enter a valid integer.\")\n",
    "\n",
    "if __name__ == \"__main__\":\n",
    "    try:\n",
    "        upper_bound = int(input(\"Enter the upper bound for the number to guess (integer): \"))\n",
    "        if upper_bound < 1:\n",
    "            print(\"Upper bound must be at least 1.\")\n",
    "        else:\n",
    "            guess_number(upper_bound)\n",
    "    except ValueError:\n",
    "        print(\"Invalid input! Please enter a valid integer for the upper bound.\")\n"
   ]
  }
 ],
 "metadata": {
  "kernelspec": {
   "display_name": "Python 3 (ipykernel)",
   "language": "python",
   "name": "python3"
  },
  "language_info": {
   "codemirror_mode": {
    "name": "ipython",
    "version": 3
   },
   "file_extension": ".py",
   "mimetype": "text/x-python",
   "name": "python",
   "nbconvert_exporter": "python",
   "pygments_lexer": "ipython3",
   "version": "3.11.7"
  }
 },
 "nbformat": 4,
 "nbformat_minor": 5
}
